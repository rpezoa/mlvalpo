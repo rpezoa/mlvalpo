{
  "nbformat": 4,
  "nbformat_minor": 0,
  "metadata": {
    "colab": {
      "provenance": [],
      "authorship_tag": "ABX9TyPb8eOdztpU8tWQKv9Td+YA",
      "include_colab_link": true
    },
    "kernelspec": {
      "name": "python3",
      "display_name": "Python 3"
    },
    "language_info": {
      "name": "python"
    }
  },
  "cells": [
    {
      "cell_type": "markdown",
      "metadata": {
        "id": "view-in-github",
        "colab_type": "text"
      },
      "source": [
        "<a href=\"https://colab.research.google.com/github/rpezoa/mlvalpo/blob/main/regresionMulti_MLvalpo_ipynb.ipynb\" target=\"_parent\"><img src=\"https://colab.research.google.com/assets/colab-badge.svg\" alt=\"Open In Colab\"/></a>"
      ]
    },
    {
      "cell_type": "markdown",
      "source": [
        "# Predicción de temperatura efectiva y velocidad de rotación en estrellas masivas\n",
        "***\n",
        "**Objetivo de la actividad**: Usar diversos métodos ML para predecir la temperatura efectiva y velocidad de rotación de espectros de estrellas masivas.\n",
        "\n",
        "**Datos**: Un subconjunto de espectros de estrellas Be, generados por PhD (c) Daniela Turis (IFA-UV) con el código ZPEKTR.\n",
        "\n",
        "Al usar ML, este problema se resuelve como un problema de **regresión de múltiples salidas**.\n",
        "\n",
        "Información obre estrellas masivas en: https://massivestars.ifa.uv.cl/\n"
      ],
      "metadata": {
        "id": "2fvYqwtbx8OU"
      }
    },
    {
      "cell_type": "markdown",
      "source": [
        "## Bibliotecas de Python\n",
        "***"
      ],
      "metadata": {
        "id": "13eeyeOnyA7v"
      }
    },
    {
      "cell_type": "code",
      "execution_count": null,
      "metadata": {
        "id": "jnChzAn14FQm"
      },
      "outputs": [],
      "source": [
        "import os\n",
        "import sys\n",
        "\n",
        "import pandas as pd\n",
        "from sklearn.preprocessing import StandardScaler, MinMaxScaler\n",
        "from sklearn.model_selection import train_test_split\n",
        "\n",
        "import numpy as np\n",
        "import time\n",
        "\n",
        "\n",
        "from sklearn.linear_model import LinearRegression\n",
        "from sklearn.tree import DecisionTreeRegressor\n",
        "from sklearn.ensemble import RandomForestRegressor, GradientBoostingRegressor\n",
        "\n",
        "from sklearn.metrics import r2_score\n",
        "import matplotlib.pyplot as plt\n",
        "import seaborn as sns"
      ]
    },
    {
      "cell_type": "markdown",
      "source": [
        "## Funciones propias\n",
        "***"
      ],
      "metadata": {
        "id": "Y1KEng-3yF5U"
      }
    },
    {
      "cell_type": "code",
      "source": [
        "import matplotlib.pyplot as plt\n",
        "import seaborn as sns\n",
        "from sklearn.metrics import mean_squared_error, mean_absolute_error, r2_score\n",
        "\n",
        "def plot_results(y_test, y_pred):\n",
        "    targets = [\"T_eff\", \"v sin i\"]\n",
        "\n",
        "    # Reporte de métricas\n",
        "    for i, target in enumerate(targets):\n",
        "        print(f\"{target} – Linear Regression\")\n",
        "        print(f\"  MSE: {mean_squared_error(y_test.values[:, i], y_pred[:, i]):.2f}\")\n",
        "        print(f\"  MAE: {mean_absolute_error(y_test.values[:, i], y_pred[:, i]):.2f}\")\n",
        "        print(f\"  R²:  {r2_score(y_test.values[:, i], y_pred[:, i]):.3f}\\n\")\n",
        "\n",
        "    # Visualización conjunta\n",
        "    plt.figure(figsize=(12, 5))  # más ancho que alto\n",
        "\n",
        "    for i, target in enumerate(targets):\n",
        "        plt.subplot(1, 2, i+1)\n",
        "        sns.scatterplot(x=y_test.values[:, i], y=y_pred[:, i], alpha=0.4)\n",
        "        plt.plot(\n",
        "            [y_test.values[:, i].min(), y_test.values[:, i].max()],\n",
        "            [y_test.values[:, i].min(), y_test.values[:, i].max()],\n",
        "            'r--'\n",
        "        )\n",
        "        plt.xlabel(f\"True {target}\")\n",
        "        plt.ylabel(f\"Predicted {target}\")\n",
        "        plt.title(f\"{target} – Linear Regression\")\n",
        "        plt.grid(True)\n",
        "\n",
        "    plt.tight_layout()\n",
        "    plt.show()\n"
      ],
      "metadata": {
        "id": "Fi7PNTGrIEsa"
      },
      "execution_count": null,
      "outputs": []
    },
    {
      "cell_type": "markdown",
      "source": [
        "## Descarga de Datos y Pandas\n",
        "***\n",
        "* Datos generados con ZPEKTR, por PhD (c) Daniela Turis IFA-UV.\n",
        "* Debe obtener el conjunto de espectros llamados: df_ZPEKTR_limb_lineal.csv"
      ],
      "metadata": {
        "id": "6UBv0xWQyKrt"
      }
    },
    {
      "cell_type": "code",
      "source": [
        "# Dataset provided by PhD (c) Daniela Turis, IFA-UV.\n",
        "\n",
        "# Verifica si estás en Google Colab\n",
        "IN_COLAB = 'google.colab' in sys.modules\n",
        "\n",
        "if IN_COLAB:\n",
        "    # En Colab, usamos gdown\n",
        "    import gdown\n",
        "    !gdown https://drive.google.com/uc?id=1m_GajQqDRcKrH8_ExG_0Yp_sQ4MrhZbN\n",
        "    data=pd.read_csv(\"df_ZPEKTR_limb_lineal.csv\")\n",
        "\n",
        "else:\n",
        "    # En entorno local, carga desde disco\n",
        "    file_path = \"/Users/rpezoa/Downloads/df_ZPEKTR_limb_lineal.csv\"\n",
        "    if os.path.exists(file_path):\n",
        "        print(\"Archivo cargado localmente:\", file_path)\n",
        "        data=pd.read_csv(file_path)\n",
        "\n",
        "    else:\n",
        "        print(\"No se encontró el archivo local. Debes descargarlo manualmente.\")\n"
      ],
      "metadata": {
        "colab": {
          "base_uri": "https://localhost:8080/"
        },
        "id": "xlqh8hxl4Lfw",
        "outputId": "a41a224e-48e5-4d35-bc73-68b752b848c3"
      },
      "execution_count": null,
      "outputs": [
        {
          "output_type": "stream",
          "name": "stdout",
          "text": [
            "Downloading...\n",
            "From: https://drive.google.com/uc?id=1m_GajQqDRcKrH8_ExG_0Yp_sQ4MrhZbN\n",
            "To: /content/df_ZPEKTR_limb_lineal.csv\n",
            "\r  0% 0.00/19.1M [00:00<?, ?B/s]\r 72% 13.6M/19.1M [00:00<00:00, 132MB/s]\r100% 19.1M/19.1M [00:00<00:00, 127MB/s]\n"
          ]
        }
      ]
    },
    {
      "cell_type": "markdown",
      "source": [
        "## Revisar los datos\n",
        "---\n",
        "* Revise los datos, vea cuántas columnas tiene, los nombres de las columnas.\n",
        "* Los parámetros que vamos a predecir serán \\<Teff\\> y  vsini\n",
        "* Puede usar las funciones: data.columns, data.info(), data.describe(), data[\"vsini\"].mean(), etc."
      ],
      "metadata": {
        "id": "PeRSVBYKyWsL"
      }
    },
    {
      "cell_type": "code",
      "source": [
        "data.head()"
      ],
      "metadata": {
        "id": "P1M4u2x24OeF"
      },
      "execution_count": null,
      "outputs": []
    },
    {
      "cell_type": "markdown",
      "source": [
        "### Generación de matrices con formato para ser usados en modelos ML\n",
        "***\n",
        "* Lo usual, cuando se trabaja con datos tabulados, es generar una matriz $X$ con los datos de entrada y una matriz $y$ con la salida\n",
        "* Acá, $X$ contiene los $n=10691$ espectros e $y$ contiene los $n$ valores de salida o etiquetas de cada espectro. En este caso, y tendrá los valores de la temperatura efectiva y velocidad de rotación (vsini)."
      ],
      "metadata": {
        "id": "TW83WU_lycFm"
      }
    },
    {
      "cell_type": "code",
      "source": [
        "X = data.iloc[:,0:170] # X matrix containing the flux of the spectral lines\n",
        "y_input = data.iloc[:,170:176] # input parameters of ZPEKTR\n",
        "y_output = data.iloc[:,176:] # output parameters of ZPEKTR\n",
        "y = data[[\"<Teff>\", \"vsini\"]] # y matrix containing the values we want to predict"
      ],
      "metadata": {
        "id": "GZ1kYsfW4Q0o"
      },
      "execution_count": null,
      "outputs": []
    },
    {
      "cell_type": "code",
      "source": [
        "y"
      ],
      "metadata": {
        "id": "8j_NIaS84TKK"
      },
      "execution_count": null,
      "outputs": []
    },
    {
      "cell_type": "code",
      "source": [
        "lambdas = np.array(data.columns[:-18]).astype(\"float\")\n",
        "plt.figure()\n",
        "plt.plot(lambdas, X.iloc[2,:])\n",
        "plt.title(\"Example of spectrum\")\n",
        "plt.xlabel(\"Wavelength\")\n",
        "plt.ylabel(\"Flux\")\n",
        "plt.grid()\n",
        "plt.show()\n"
      ],
      "metadata": {
        "id": "d0fq2SqUy-Nm"
      },
      "execution_count": null,
      "outputs": []
    },
    {
      "cell_type": "markdown",
      "source": [
        "### Conjuntos de training, validation y testing\n",
        "***\n",
        "* La generación de los conjuntos de training, testing y validation, es fundamental para el entrenamiento y generalización  de los modelos.\n"
      ],
      "metadata": {
        "id": "uUPEkCw_zMFD"
      }
    },
    {
      "cell_type": "code",
      "source": [
        "X_train,X_test,y_train,y_test = train_test_split(X,y,test_size=0.2, random_state=0)\n",
        "X_train, X_val, y_train, y_val = train_test_split(X_train, y_train, test_size = 0.2, random_state=0)"
      ],
      "metadata": {
        "id": "UAeHiMHyGrJE"
      },
      "execution_count": null,
      "outputs": []
    },
    {
      "cell_type": "markdown",
      "source": [
        "## Modelos de machine learning\n",
        "***\n",
        "Usaremos cuatro técnicas para predecir la temperatura efectiva y velocidad de rotación:\n",
        " * regresión lineal\n",
        " * decision tree\n",
        " * random forest\n",
        " * gradient boosting"
      ],
      "metadata": {
        "id": "UKYtD0VJzTla"
      }
    },
    {
      "cell_type": "markdown",
      "source": [
        "### Regresión Lineal\n",
        "\n",
        "* Acá usaremos el método LinearRegression() de scikit-learn\n",
        "*"
      ],
      "metadata": {
        "id": "SjnJlfCFzYM-"
      }
    },
    {
      "cell_type": "code",
      "source": [
        "from sklearn.metrics import mean_squared_error, mean_absolute_error, r2_score\n",
        "import matplotlib.pyplot as plt\n",
        "\n",
        "\n",
        "model_lr = LinearRegression()\n",
        "model_lr.fit(X_train, y_train)\n",
        "y_pred_lr = model_lr.predict(X_test)\n",
        "plot_results(y_test,y_pred_lr)"
      ],
      "metadata": {
        "id": "reXxKkwWGRLO"
      },
      "execution_count": null,
      "outputs": []
    },
    {
      "cell_type": "markdown",
      "source": [
        "### Decision Tree"
      ],
      "metadata": {
        "id": "NBE1H0nxzh0-"
      }
    },
    {
      "cell_type": "code",
      "source": [
        "from sklearn.tree import DecisionTreeRegressor\n",
        "\n",
        "\n"
      ],
      "metadata": {
        "id": "eOmW_t21G9Uy"
      },
      "execution_count": null,
      "outputs": []
    },
    {
      "cell_type": "markdown",
      "source": [
        "## Random Forest"
      ],
      "metadata": {
        "id": "oNLmGy-9zupZ"
      }
    },
    {
      "cell_type": "code",
      "source": [
        "from sklearn.ensemble import RandomForestRegressor\n",
        "\n"
      ],
      "metadata": {
        "id": "YGXolGo4Ilkw"
      },
      "execution_count": null,
      "outputs": []
    },
    {
      "cell_type": "markdown",
      "source": [
        "### Optmización de hiperparámetros\n",
        "\n",
        "* Uso de [GridSearchCV](https://scikit-learn.org/stable/modules/generated/sklearn.model_selection.GridSearchCV.html) de scikit-learn de Python."
      ],
      "metadata": {
        "id": "4Q1TWwQEmBaA"
      }
    },
    {
      "cell_type": "code",
      "source": [
        "param_grid = {\n",
        "    'n_estimators': [10,20],\n",
        "    #'max_features': ['auto', 'sqrt', 'log2'],\n",
        "    #'max_depth' : [4,5,6,7,8],\n",
        "    #'criterion' :['gini', 'entropy']\n",
        "}\n",
        "\n",
        "rfc= RandomForestRegressor(random_state=42)\n",
        "CV_rfc = GridSearchCV(estimator=rfc, param_grid=param_grid, cv= 5, n_jobs=-1)\n",
        "CV_rfc.fit(X_train, y_train)"
      ],
      "metadata": {
        "id": "rPORLRNIl-Eb"
      },
      "execution_count": null,
      "outputs": []
    },
    {
      "cell_type": "markdown",
      "source": [
        "## Gradient Boosting"
      ],
      "metadata": {
        "id": "0eG9OYa-zyfP"
      }
    },
    {
      "cell_type": "code",
      "source": [
        "from sklearn.ensemble import GradientBoostingRegressor\n",
        "from sklearn.multioutput import MultiOutputRegressor\n",
        "\n",
        "base_model = GradientBoostingRegressor(n_estimators=10, random_state=42)\n",
        "model_gb = MultiOutputRegressor(base_model)\n",
        "\n"
      ],
      "metadata": {
        "id": "FvY-kVuSIws2"
      },
      "execution_count": null,
      "outputs": []
    },
    {
      "cell_type": "code",
      "source": [
        "base_estimator = GradientBoostingRegressor(random_state=42)\n",
        "\n",
        "# Wrap it with MultiOutputRegressor\n",
        "multi_output_model = MultiOutputRegressor(estimator=base_estimator)\n",
        "\n",
        "\n",
        "param_grid = {\n",
        "    'estimator__n_estimators': [5,10,20,40],\n",
        "    'estimator__max_depth': [None, 10, 20]\n",
        "}\n",
        "\n",
        "# Create GridSearchCV object\n",
        "grid_search = GridSearchCV(\n",
        "    estimator=multi_output_model,\n",
        "    param_grid=param_grid,\n",
        "    cv=3,\n",
        "    n_jobs=-1\n",
        ")\n",
        "\n",
        "grid_search.fit(X_train, y_train)"
      ],
      "metadata": {
        "id": "4tHokH64mNWc"
      },
      "execution_count": null,
      "outputs": []
    },
    {
      "cell_type": "markdown",
      "source": [
        "# Ahora probemos en líneas observadas\n",
        "***"
      ],
      "metadata": {
        "id": "hlDYUBO7JpG_"
      }
    },
    {
      "cell_type": "markdown",
      "source": [
        "## Descarga de líneas observadas"
      ],
      "metadata": {
        "id": "Nd1Nl8vKz8nD"
      }
    },
    {
      "cell_type": "code",
      "source": [
        "!gdown\n",
        "if IN_COLAB:\n",
        "    # En Colab, usamos gdown\n",
        "    import gdown\n",
        "    !gdown https://drive.google.com/uc?id=1WGq1GXOD3SnI985wgMnV7u2NyV3l2BQc\n",
        "    #!gdown https://drive.google.com/uc?id=1codpDGdi9Z-JjzsJqhu0mxQDCY22XNm5\n",
        "    #!gdown https://drive.google.com/uc?id=1KQ0mYeRgD_A9u0QyjCMAh1YjakyaE23K\n",
        "    #!gdown https://drive.google.com/uc?id=1-08NwTp8fFFgCeUj8x9qmg9sfSorZyqt\n",
        "    df=pd.read_csv(\"hd60606_4460_4478.dat\", header=None,sep=\" \")\n",
        "\n",
        "else:\n",
        "    # En entorno local, carga desde disco\n",
        "    file_path = \"/Users/rpezoa/repo_temp/mlvalpo/observed_DT/hd60606_4460_4478.dat\"\n",
        "    if os.path.exists(file_path):\n",
        "        print(\"Archivo cargado localmente:\", file_path)\n",
        "        df = pd.read_csv(file_path, header=None, sep=\" \")\n",
        "\n",
        "    else:\n",
        "        print(\"No se encontró el archivo local. Debes descargarlo manualmente.\")"
      ],
      "metadata": {
        "id": "ddbwigAlI99U"
      },
      "execution_count": null,
      "outputs": []
    },
    {
      "cell_type": "markdown",
      "source": [
        "#### Etiquetas de los datos\n",
        "| Estrella | Teff | log g | v sin i|\n",
        "|---|---|---|---|\n",
        "| HD 60606 | 19095 ± 656 | 3.94 ± 0.07 | 298 ± 13 |\n",
        "| HD 212076 | 17374 ± 631 | 3.86 ± 0.15 | 112 ± 8 |\n",
        "| HD 158427 | 18668 ± 1395 | 4.31 ± 0.15 | 328 ± 15 |\n",
        "| HD68980 | 18104 ± 1618 | 3.32 ± 0.33 | 161 ± 13 |\n"
      ],
      "metadata": {
        "id": "z88CNeLj0ELh"
      }
    },
    {
      "cell_type": "markdown",
      "source": [
        "### Preprocesamiento breve\n",
        "* Acá renombraremos las columnas, solo para mayor claridad\n"
      ],
      "metadata": {
        "id": "7l9zuRwg0HXT"
      }
    },
    {
      "cell_type": "code",
      "source": [
        "df.rename(columns={0: 'wavelength', 1:'flux'}, inplace=True)\n",
        "df.columns"
      ],
      "metadata": {
        "id": "RnBetJAp0JgY",
        "outputId": "4d0146d1-23ab-4bb7-af72-b844fbd43ac0",
        "colab": {
          "base_uri": "https://localhost:8080/"
        }
      },
      "execution_count": null,
      "outputs": [
        {
          "output_type": "execute_result",
          "data": {
            "text/plain": [
              "Index(['wavelength', 'flux'], dtype='object')"
            ]
          },
          "metadata": {},
          "execution_count": 22
        }
      ]
    },
    {
      "cell_type": "markdown",
      "source": [
        "### Revisar y graficar la línea observada\n"
      ],
      "metadata": {
        "id": "VN9jcSE61QrD"
      }
    },
    {
      "cell_type": "code",
      "source": [
        "df"
      ],
      "metadata": {
        "id": "_0qEm03UL92H"
      },
      "execution_count": null,
      "outputs": []
    },
    {
      "cell_type": "code",
      "source": [
        "plt.figure(figsize=(10, 4))\n",
        "plt.plot(df['wavelength'], df['flux'], color=\"navy\", lw=1.5)\n",
        "plt.xlabel(\"Wavelength [Å]\")\n",
        "plt.ylabel(\"Flux\")\n",
        "plt.title(\"Espectro Observado - HD 60606 (4460 - 4477 Å)\")\n",
        "plt.grid(True)\n",
        "plt.tight_layout()\n",
        "# Guardar a archivo PNG\n",
        "plt.savefig(\"spectrum_hd60606_4460_4477.png\", dpi=300)\n",
        "plt.show()"
      ],
      "metadata": {
        "id": "iEMNXlVK1bSc"
      },
      "execution_count": null,
      "outputs": []
    },
    {
      "cell_type": "code",
      "source": [
        "espectro_obs  = df[\"flux\"]\n",
        "espectro_obs = espectro_obs.values.reshape(1,-1)"
      ],
      "metadata": {
        "id": "inKx15yzMCyQ"
      },
      "execution_count": null,
      "outputs": []
    },
    {
      "cell_type": "markdown",
      "source": [
        "## Predicción con Linear Regresion"
      ],
      "metadata": {
        "id": "OS0K9R9Z1j7E"
      }
    },
    {
      "cell_type": "markdown",
      "source": [
        "## Predicción con Decision Tree"
      ],
      "metadata": {
        "id": "orPsQQO51sfM"
      }
    },
    {
      "cell_type": "markdown",
      "source": [
        "## Predicción con Random Forest"
      ],
      "metadata": {
        "id": "Wq0u5wff1sMM"
      }
    },
    {
      "cell_type": "markdown",
      "source": [
        "## Predicción con Gradient Boosting"
      ],
      "metadata": {
        "id": "iAQA7qFa1ry8"
      }
    },
    {
      "cell_type": "markdown",
      "source": [
        "# Preguntas\n",
        "1. Analice los valores predichos por cada método ML. ¿Qué pasa con la predicción generada por la técnica regresión lineal?\n",
        "\n",
        "2. ¿Cómo puede mejorar los resultados de Gradient Boosting?\n"
      ],
      "metadata": {
        "id": "JXh4B8w3156i"
      }
    }
  ]
}