{
  "nbformat": 4,
  "nbformat_minor": 0,
  "metadata": {
    "colab": {
      "provenance": [],
      "authorship_tag": "ABX9TyPXu5dVMAiLqvAN0DFFR/TL",
      "include_colab_link": true
    },
    "kernelspec": {
      "name": "python3",
      "display_name": "Python 3"
    },
    "language_info": {
      "name": "python"
    }
  },
  "cells": [
    {
      "cell_type": "markdown",
      "metadata": {
        "id": "view-in-github",
        "colab_type": "text"
      },
      "source": [
        "<a href=\"https://colab.research.google.com/github/rpezoa/mlvalpo/blob/main/regresion_MLvalpo.ipynb\" target=\"_parent\"><img src=\"https://colab.research.google.com/assets/colab-badge.svg\" alt=\"Open In Colab\"/></a>"
      ]
    },
    {
      "cell_type": "markdown",
      "source": [
        "# Ejemplo de predicción de temperatura efectiva en estrellas masivas\n",
        "***\n",
        "\n",
        "**Objetivo de la actividad**: Usar herramientas de Python para probar algunos métodos ML (muy simples) para predecir la temperatura efectiva de espectros de estrellas masivas.\n",
        "\n",
        "**Datos**: Un subconjunto de espectros de estrellas Be, generados por PhD (c) Daniela Turis (IFA-UV) con el código ZPEKTR.\n",
        "\n",
        "Al usar ML, este problema se resuelve como un problema de **regresión**.\n",
        "\n",
        "Información obre estrellas masivas en: https://massivestars.ifa.uv.cl/\n",
        "\n"
      ],
      "metadata": {
        "id": "uRkmBFXjwNg5"
      }
    },
    {
      "cell_type": "markdown",
      "source": [
        "## Bibliotecas de Python\n",
        "***"
      ],
      "metadata": {
        "id": "2v-HxfTKRld2"
      }
    },
    {
      "cell_type": "code",
      "execution_count": 1,
      "metadata": {
        "id": "4JoQmXv_wDLO"
      },
      "outputs": [],
      "source": [
        "import pandas as pd\n",
        "from sklearn.preprocessing import StandardScaler, MinMaxScaler\n",
        "from sklearn.model_selection import train_test_split\n",
        "\n",
        "import numpy as np\n",
        "import time\n",
        "\n",
        "from sklearn.metrics import r2_score\n",
        "import matplotlib.pyplot as plt\n",
        "import seaborn as sns"
      ]
    },
    {
      "cell_type": "markdown",
      "source": [
        "## Descarga de Datos y Pandas\n",
        "***\n",
        "* Datos generados con ZPEKTR, por PhD (c) Daniela Turis IFA-UV.\n",
        "* Debe obtener el conjunto de espectros llamados: df_ZPEKTR_limb_lineal.csv"
      ],
      "metadata": {
        "id": "mC9C1Gt4wUf8"
      }
    },
    {
      "cell_type": "code",
      "source": [
        "# Dataset provided by Daniela Turis, IFA-UV.\n",
        "\n",
        "!gdown https://drive.google.com/uc?id=1m_GajQqDRcKrH8_ExG_0Yp_sQ4MrhZbN"
      ],
      "metadata": {
        "id": "Xs2JHbD3wRFA"
      },
      "execution_count": null,
      "outputs": []
    },
    {
      "cell_type": "markdown",
      "source": [
        "## Pandas dataframe"
      ],
      "metadata": {
        "id": "WUBDQG3CwZKW"
      }
    },
    {
      "cell_type": "code",
      "source": [
        "data=pd.read_csv('df_ZPEKTR_limb_lineal.csv')\n",
        "data.head()"
      ],
      "metadata": {
        "id": "0siyAm7uwZb7"
      },
      "execution_count": null,
      "outputs": []
    },
    {
      "cell_type": "markdown",
      "source": [
        "### Construcción de matriz $X$ y vector $y$"
      ],
      "metadata": {
        "id": "yIDZ2s-3wiyk"
      }
    },
    {
      "cell_type": "code",
      "source": [
        "X = data.iloc[:,0:170] # X matrix containing spectral lines (flux)\n",
        "y_input = data.iloc[:,170:176] # input parameters\n",
        "y_output = data.iloc[:,176:] # output parameters\n",
        "y = data.iloc[:,176:177] # y matrix containing the values we want to predict\n",
        "lambdas = np.array(data.columns[:-18]).astype(\"float\")\n",
        "\n",
        "plt.figure()\n",
        "plt.plot(lambdas, X.iloc[2,:])\n",
        "plt.title(\"Example of spectrum\")\n",
        "plt.xlabel(\"Wavelength\")\n",
        "plt.ylabel(\"Flux\")\n",
        "plt.grid()\n",
        "plt.show()"
      ],
      "metadata": {
        "id": "icp8oNCQwrjl"
      },
      "execution_count": null,
      "outputs": []
    },
    {
      "cell_type": "code",
      "source": [
        "X_train,X_test,y_train,y_test = train_test_split(X,y,test_size=0.2, random_state=0)\n",
        "X_train, X_val, y_train, y_val = train_test_split(X_train, y_train, test_size = 0.2, random_state=0)"
      ],
      "metadata": {
        "id": "U8vfB0vqwyip"
      },
      "execution_count": 18,
      "outputs": []
    },
    {
      "cell_type": "code",
      "source": [
        "X_train.shape, y_train.shape"
      ],
      "metadata": {
        "id": "K0Ta6gBozm09"
      },
      "execution_count": null,
      "outputs": []
    },
    {
      "cell_type": "markdown",
      "source": [
        "## Regresión Lineal"
      ],
      "metadata": {
        "id": "yRVneTouzi-x"
      }
    },
    {
      "cell_type": "code",
      "source": [
        "from sklearn.linear_model import LinearRegression\n",
        "from sklearn.metrics import mean_squared_error, mean_absolute_error, r2_score\n",
        "import matplotlib.pyplot as plt\n",
        "\n",
        "lr = LinearRegression()\n",
        "lr.fit(X_train, y_train)\n",
        "y_pred = lr.predict(X_test)\n",
        "\n",
        "print(\"Linear Regression Results:\")\n",
        "print(f\"MSE: {mean_squared_error(y_test, y_pred):.2f}\")\n",
        "print(f\"MAE: {mean_absolute_error(y_test, y_pred):.2f}\")\n",
        "print(f\"R²: {r2_score(y_test, y_pred):.3f}\")\n",
        "\n",
        "plt.scatter(y_test, y_pred, alpha=0.6)\n",
        "plt.plot([y_test.min(), y_test.max()], [y_test.min(), y_test.max()], 'r--')\n",
        "plt.xlabel(\"True $T_{eff}$\")\n",
        "plt.ylabel(\"Predicted $T_{eff}$\")\n",
        "plt.title(\"Linear Regression\")\n",
        "plt.show()"
      ],
      "metadata": {
        "id": "VNKEVyG2w0jC"
      },
      "execution_count": null,
      "outputs": []
    },
    {
      "cell_type": "markdown",
      "source": [
        "## Decision Tree"
      ],
      "metadata": {
        "id": "M4nl4fHqzzI2"
      }
    },
    {
      "cell_type": "code",
      "source": [
        "from sklearn.tree import DecisionTreeRegressor\n",
        "\n",
        "tree = DecisionTreeRegressor(max_depth=4, random_state=42)\n",
        "tree.fit(X_train, y_train)\n",
        "y_pred = tree.predict(X_test)\n",
        "\n",
        "print(\"Decision Tree Results:\")\n",
        "print(f\"MSE: {mean_squared_error(y_test, y_pred):.2f}\")\n",
        "print(f\"MAE: {mean_absolute_error(y_test, y_pred):.2f}\")\n",
        "print(f\"R²: {r2_score(y_test, y_pred):.3f}\")\n",
        "\n",
        "plt.scatter(y_test, y_pred, alpha=0.6)\n",
        "plt.plot([y_test.min(), y_test.max()], [y_test.min(), y_test.max()], 'r--')\n",
        "plt.xlabel(\"True $T_{eff}$\")\n",
        "plt.ylabel(\"Predicted $T_{eff}$\")\n",
        "plt.title(\"Decision Tree (max_depth=4)\")\n",
        "plt.show()"
      ],
      "metadata": {
        "id": "vxMzf6qBx5BO"
      },
      "execution_count": null,
      "outputs": []
    },
    {
      "cell_type": "markdown",
      "source": [
        "## Random Forest"
      ],
      "metadata": {
        "id": "4CTO7JWPz6AF"
      }
    },
    {
      "cell_type": "code",
      "source": [
        "from sklearn.ensemble import RandomForestRegressor\n",
        "\n",
        "rf = RandomForestRegressor(n_estimators=10, random_state=42)\n",
        "rf.fit(X_train, y_train)\n",
        "y_pred = rf.predict(X_test)\n",
        "\n",
        "print(\"Random Forest Results:\")\n",
        "print(f\"MSE: {mean_squared_error(y_test, y_pred):.2f}\")\n",
        "print(f\"MAE: {mean_absolute_error(y_test, y_pred):.2f}\")\n",
        "print(f\"R²: {r2_score(y_test, y_pred):.3f}\")\n",
        "\n",
        "plt.scatter(y_test, y_pred, alpha=0.6)\n",
        "plt.plot([y_test.min(), y_test.max()], [y_test.min(), y_test.max()], 'r--')\n",
        "plt.xlabel(\"True $T_{eff}$\")\n",
        "plt.ylabel(\"Predicted $T_{eff}$\")\n",
        "plt.title(\"Random Forest\")\n",
        "plt.show()"
      ],
      "metadata": {
        "id": "028CQZt-x-R7"
      },
      "execution_count": null,
      "outputs": []
    },
    {
      "cell_type": "code",
      "source": [
        "from sklearn.ensemble import GradientBoostingRegressor\n",
        "\n",
        "gb = GradientBoostingRegressor(random_state=42)\n",
        "gb.fit(X_train, y_train)\n",
        "y_pred2 = gb.predict(X_test)\n",
        "\n",
        "print(\"Gradient Boosting Results:\")\n",
        "print(f\"MSE: {mean_squared_error(y_test, y_pred):.2f}\")\n",
        "print(f\"MAE: {mean_absolute_error(y_test, y_pred):.2f}\")\n",
        "print(f\"R²: {r2_score(y_test, y_pred):.3f}\")\n",
        "\n",
        "plt.scatter(y_test, y_pred, alpha=0.6)\n",
        "plt.plot([y_test.min(), y_test.max()], [y_test.min(), y_test.max()], 'r--')\n",
        "plt.xlabel(\"True $T_{eff}$\")\n",
        "plt.ylabel(\"Predicted $T_{eff}$\")\n",
        "plt.title(\"Gradient Boosting\")\n",
        "plt.show()"
      ],
      "metadata": {
        "id": "OdSkEvdgyBn8"
      },
      "execution_count": null,
      "outputs": []
    }
  ]
}